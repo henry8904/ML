{
  "nbformat": 4,
  "nbformat_minor": 0,
  "metadata": {
    "colab": {
      "name": "BayesianClassifier.ipynb",
      "provenance": [],
      "collapsed_sections": [],
      "include_colab_link": true
    },
    "kernelspec": {
      "name": "python3",
      "display_name": "Python 3"
    }
  },
  "cells": [
    {
      "cell_type": "markdown",
      "metadata": {
        "id": "view-in-github",
        "colab_type": "text"
      },
      "source": [
        "<a href=\"https://colab.research.google.com/github/henry8904/ML/blob/master/BayesianClassifier.ipynb\" target=\"_parent\"><img src=\"https://colab.research.google.com/assets/colab-badge.svg\" alt=\"Open In Colab\"/></a>"
      ]
    },
    {
      "cell_type": "code",
      "metadata": {
        "id": "jd0Xr5-SG-Fq",
        "colab_type": "code",
        "colab": {}
      },
      "source": [
        "import tensorflow as tf\n",
        "import numpy as np\n",
        "import pandas as pd\n",
        "import matplotlib.pyplot as plt\n",
        "%matplotlib inline"
      ],
      "execution_count": 0,
      "outputs": []
    },
    {
      "cell_type": "code",
      "metadata": {
        "id": "RNvpYJJWJ4ft",
        "colab_type": "code",
        "colab": {}
      },
      "source": [
        "mean1 = [1,1]\n",
        "cov1 = [[1,0],[0,1]]\n",
        "\n",
        "mean2 = [-1,-1]\n",
        "cov2 = [[1,0],[0,1]]"
      ],
      "execution_count": 0,
      "outputs": []
    },
    {
      "cell_type": "code",
      "metadata": {
        "id": "gXyESmmCKFBe",
        "colab_type": "code",
        "colab": {}
      },
      "source": [
        "x1 = np.random.multivariate_normal(mean1, cov1, 500)\n",
        "x2 = np.random.multivariate_normal(mean2, cov2, 500)"
      ],
      "execution_count": 0,
      "outputs": []
    },
    {
      "cell_type": "code",
      "metadata": {
        "id": "D1Qw8wZSKVL9",
        "colab_type": "code",
        "colab": {}
      },
      "source": [
        "y1 = np.ones(500)\n",
        "y2 = -1*np.ones(500)"
      ],
      "execution_count": 0,
      "outputs": []
    },
    {
      "cell_type": "code",
      "metadata": {
        "id": "vkf2I3TZKeQ6",
        "colab_type": "code",
        "colab": {
          "base_uri": "https://localhost:8080/",
          "height": 87
        },
        "outputId": "f522910c-7039-4fb5-d339-431f64f2bbea"
      },
      "source": [
        "print(x1.shape)\n",
        "print(x2.shape)\n",
        "print(y1.shape)\n",
        "print(y2.shape)"
      ],
      "execution_count": 13,
      "outputs": [
        {
          "output_type": "stream",
          "text": [
            "(500, 2)\n",
            "(500, 2)\n",
            "(500,)\n",
            "(500,)\n"
          ],
          "name": "stdout"
        }
      ]
    },
    {
      "cell_type": "code",
      "metadata": {
        "id": "kGSyWgcoKkrE",
        "colab_type": "code",
        "colab": {}
      },
      "source": [
        "datax = np.concatenate((x1,x2), axis=0)\n",
        "datay = np.concatenate((y1,y2), axis=0)"
      ],
      "execution_count": 0,
      "outputs": []
    },
    {
      "cell_type": "code",
      "metadata": {
        "id": "fo-l2HFJKutu",
        "colab_type": "code",
        "colab": {
          "base_uri": "https://localhost:8080/",
          "height": 52
        },
        "outputId": "21a46e97-8c55-4998-e671-9a7d4ece6ed3"
      },
      "source": [
        "print(datax.shape)\n",
        "print(datay.shape)"
      ],
      "execution_count": 15,
      "outputs": [
        {
          "output_type": "stream",
          "text": [
            "(1000, 2)\n",
            "(1000,)\n"
          ],
          "name": "stdout"
        }
      ]
    },
    {
      "cell_type": "code",
      "metadata": {
        "id": "KnkNVkX2Kw9s",
        "colab_type": "code",
        "colab": {
          "base_uri": "https://localhost:8080/",
          "height": 282
        },
        "outputId": "14c3b635-c8de-45c3-e640-ee72647fe5a8"
      },
      "source": [
        "plt.scatter(datax[:,0], datax[:,1])\n",
        "plt.scatter(x1[:,0],x1[:,1], c=\"red\")"
      ],
      "execution_count": 19,
      "outputs": [
        {
          "output_type": "execute_result",
          "data": {
            "text/plain": [
              "<matplotlib.collections.PathCollection at 0x7f255a125710>"
            ]
          },
          "metadata": {
            "tags": []
          },
          "execution_count": 19
        },
        {
          "output_type": "display_data",
          "data": {
            "image/png": "[encoded data removed]",
            "text/plain": [
              "<Figure size 432x288 with 1 Axes>"
            ]
          },
          "metadata": {
            "tags": []
          }
        }
      ]
    },
    {
      "cell_type": "code",
      "metadata": {
        "id": "jcPxFYNEK8oE",
        "colab_type": "code",
        "colab": {
          "base_uri": "https://localhost:8080/",
          "height": 140
        },
        "outputId": "9bd972b2-a199-4345-d30b-1e4d160aeb79"
      },
      "source": [
        "n_data = datax.shape[0]\n",
        "p_trn=0.7\n",
        "n_trn = round(n_data*p_trn)\n",
        "print(n_data, p_trn, n_trn)\n",
        "\n",
        "idx_array = np.array(range(0,n_data))\n",
        "idx_array_perm = np.random.permutation(idx_array)\n",
        "print(idx_array_perm[0:100])\n",
        "\n",
        "trnx = datax[idx_array_perm[0:n_trn],:]\n",
        "trny = datay[idx_array_perm[0:n_trn]]\n",
        "tstx = datax[idx_array_perm[n_trn:n_data],:]\n",
        "tsty = datay[idx_array_perm[n_trn:n_data]]"
      ],
      "execution_count": 24,
      "outputs": [
        {
          "output_type": "stream",
          "text": [
            "1000 0.7 700\n",
            "[342 260 451 426 284 941 237 829 998  33 936 947 441 994 981 464 357 629\n",
            "  79 677 639  56 358 821 706 909 275 752 657 681 873  99 599 151 210 152\n",
            " 527 758 918 987 952 484 534 773 856 890 288 995 418 762 603 201 675 502\n",
            " 203  19  62 990 504 820 671 630  14 973 184 285  54 476  35 174 719 267\n",
            " 227 573 828 699 449 408 515 221 623 975 609 311 824 320 109  18 721 398\n",
            " 950 452 380 259 664  49 917 219 712 446]\n"
          ],
          "name": "stdout"
        }
      ]
    },
    {
      "cell_type": "code",
      "metadata": {
        "id": "o4s8-UxKLjmL",
        "colab_type": "code",
        "colab": {
          "base_uri": "https://localhost:8080/",
          "height": 87
        },
        "outputId": "03f23294-383e-45bd-e149-6a2ad886aba0"
      },
      "source": [
        "print(trnx.shape)\n",
        "print(tstx.shape)\n",
        "print(trny.shape)\n",
        "print(tsty.shape)"
      ],
      "execution_count": 25,
      "outputs": [
        {
          "output_type": "stream",
          "text": [
            "(700, 2)\n",
            "(300, 2)\n",
            "(700,)\n",
            "(300,)\n"
          ],
          "name": "stdout"
        }
      ]
    },
    {
      "cell_type": "code",
      "metadata": {
        "id": "BksiE5DbLuQh",
        "colab_type": "code",
        "colab": {
          "base_uri": "https://localhost:8080/",
          "height": 316
        },
        "outputId": "76ca45f4-28cf-405d-ea95-6b681563087e"
      },
      "source": [
        "from sklearn.naive_bayes import GaussianNB\n",
        "\n",
        "clf = GaussianNB()\n",
        "clf.fit(trnx, trny)\n",
        "tsty_hat = clf.predict(tstx)\n",
        "print(tsty_hat)"
      ],
      "execution_count": 27,
      "outputs": [
        {
          "output_type": "stream",
          "text": [
            "[ 1. -1.  1. -1. -1.  1. -1. -1. -1.  1.  1. -1. -1.  1. -1. -1.  1. -1.\n",
            "  1.  1. -1.  1. -1.  1. -1. -1. -1. -1.  1. -1.  1. -1. -1.  1. -1. -1.\n",
            " -1.  1.  1. -1.  1. -1. -1.  1.  1.  1. -1. -1.  1. -1. -1.  1.  1. -1.\n",
            "  1.  1. -1.  1. -1.  1. -1.  1.  1.  1. -1.  1. -1. -1. -1.  1.  1.  1.\n",
            "  1.  1. -1.  1. -1.  1.  1.  1. -1.  1.  1.  1.  1.  1.  1.  1. -1. -1.\n",
            " -1. -1.  1. -1. -1.  1.  1.  1. -1. -1. -1.  1.  1.  1.  1. -1. -1. -1.\n",
            " -1. -1. -1. -1. -1. -1.  1.  1. -1.  1. -1. -1. -1. -1.  1. -1. -1.  1.\n",
            "  1.  1. -1. -1. -1.  1. -1. -1.  1.  1. -1.  1.  1.  1.  1. -1. -1. -1.\n",
            " -1. -1.  1.  1.  1.  1.  1.  1. -1.  1. -1.  1. -1. -1. -1.  1.  1. -1.\n",
            "  1. -1.  1. -1.  1.  1.  1.  1. -1. -1.  1.  1. -1. -1. -1.  1.  1. -1.\n",
            " -1. -1.  1.  1.  1.  1. -1. -1.  1.  1. -1. -1.  1.  1. -1.  1.  1.  1.\n",
            " -1.  1.  1. -1. -1.  1. -1. -1.  1.  1.  1. -1.  1.  1. -1.  1. -1.  1.\n",
            " -1. -1.  1. -1. -1.  1.  1. -1. -1. -1. -1. -1.  1. -1.  1.  1. -1. -1.\n",
            "  1.  1.  1.  1. -1. -1.  1.  1. -1.  1. -1. -1.  1.  1. -1.  1. -1. -1.\n",
            " -1. -1. -1.  1. -1.  1. -1. -1. -1. -1.  1.  1.  1.  1. -1.  1. -1. -1.\n",
            "  1. -1.  1. -1.  1.  1. -1. -1. -1. -1.  1.  1.  1. -1. -1.  1. -1.  1.\n",
            " -1.  1. -1. -1. -1. -1.  1. -1.  1. -1.  1.  1.]\n"
          ],
          "name": "stdout"
        }
      ]
    },
    {
      "cell_type": "code",
      "metadata": {
        "id": "gOe5BQJSL7Yx",
        "colab_type": "code",
        "colab": {
          "base_uri": "https://localhost:8080/",
          "height": 34
        },
        "outputId": "0b760e50-4f32-4247-d92b-7a2643de39b8"
      },
      "source": [
        "dif = tsty - tsty_hat\n",
        "accuracy = 1 - (np.size(np.where(dif != 0)) / np.size(tsty))\n",
        "print(accuracy)"
      ],
      "execution_count": 30,
      "outputs": [
        {
          "output_type": "stream",
          "text": [
            "0.9233333333333333\n"
          ],
          "name": "stdout"
        }
      ]
    },
    {
      "cell_type": "code",
      "metadata": {
        "id": "RTHjxeV_MGli",
        "colab_type": "code",
        "colab": {
          "base_uri": "https://localhost:8080/",
          "height": 282
        },
        "outputId": "ba87d160-563c-48a5-da2f-6b0b76fb92db"
      },
      "source": [
        "plt.scatter(tstx[:,0], tstx[:,1])\n",
        "plt.scatter(tstx[np.where(tsty==1),0], tstx[np.where(tsty==1),1], c=\"red\")\n",
        "plt.scatter(tstx[np.where(tsty_hat==1),0], tstx[np.where(tsty_hat == 1),1], c=\"red\", marker='x', s=50)\n",
        "plt.scatter(tstx[np.where(tsty_hat==-1),0], tstx[np.where(tsty_hat==-1),1], c=\"blue\", marker='x', s=50)"
      ],
      "execution_count": 32,
      "outputs": [
        {
          "output_type": "execute_result",
          "data": {
            "text/plain": [
              "<matplotlib.collections.PathCollection at 0x7f2559fed748>"
            ]
          },
          "metadata": {
            "tags": []
          },
          "execution_count": 32
        },
        {
          "output_type": "display_data",
          "data": {
            "image/png": "[encoded data removed]",
            "text/plain": [
              "<Figure size 432x288 with 1 Axes>"
            ]
          },
          "metadata": {
            "tags": []
          }
        }
      ]
    },
    {
      "cell_type": "code",
      "metadata": {
        "id": "D4ZTZnZZMuAR",
        "colab_type": "code",
        "colab": {}
      },
      "source": [
        "clf2 = GaussianNB(priors=[0.1,0.9])\n",
        "clf2.fit(trnx,trny)\n",
        "tsty_hat2 = clf2.predict(tstx)"
      ],
      "execution_count": 0,
      "outputs": []
    },
    {
      "cell_type": "code",
      "metadata": {
        "id": "G3qU60tvM7DH",
        "colab_type": "code",
        "colab": {
          "base_uri": "https://localhost:8080/",
          "height": 282
        },
        "outputId": "3e6e7503-bffd-4347-811b-8ab231c0f4ec"
      },
      "source": [
        "plt.scatter(tstx[:,0], tstx[:,1])\n",
        "plt.scatter(tstx[np.where(tsty==1),0], tstx[np.where(tsty==1),1], c=\"red\")\n",
        "plt.scatter(tstx[np.where(tsty_hat2==1),0], tstx[np.where(tsty_hat2==1),1], c=\"red\", marker='x', s=50)\n",
        "plt.scatter(tstx[np.where(tsty_hat2==-1),0], tstx[np.where(tsty_hat2==-1),1], c=\"blue\", marker='x', s=50)"
      ],
      "execution_count": 34,
      "outputs": [
        {
          "output_type": "execute_result",
          "data": {
            "text/plain": [
              "<matplotlib.collections.PathCollection at 0x7f2559f767b8>"
            ]
          },
          "metadata": {
            "tags": []
          },
          "execution_count": 34
        },
        {
          "output_type": "display_data",
          "data": {
            "image/png": "[encoded data removed]",
            "text/plain": [
              "<Figure size 432x288 with 1 Axes>"
            ]
          },
          "metadata": {
            "tags": []
          }
        }
      ]
    },
    {
      "cell_type": "code",
      "metadata": {
        "id": "FJyBhW12NdpP",
        "colab_type": "code",
        "colab": {}
      },
      "source": [
        ""
      ],
      "execution_count": 0,
      "outputs": []
    }
  ]
}